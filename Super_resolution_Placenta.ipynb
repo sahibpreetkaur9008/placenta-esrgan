{
  "cells": [
    {
      "cell_type": "markdown",
      "metadata": {
        "id": "UJeo2a5C0uj2"
      },
      "source": [
        "# Image Super Resolution of Histological images of a Human Placenta using ESRGAN"
      ]
    },
    {
      "cell_type": "markdown",
      "metadata": {
        "id": "LBGty4O_0ukJ"
      },
      "source": [
        "**Preparing Environment**"
      ]
    },
    {
      "cell_type": "code",
      "execution_count": null,
      "metadata": {
        "id": "lnyLTyUt0ukN"
      },
      "outputs": [],
      "source": [
        "import os\n",
        "import sys\n",
        "import time\n",
        "from PIL import Image\n",
        "import numpy as np\n",
        "import tensorflow as tf\n",
        "import tensorflow_hub as hub\n",
        "import keras\n",
        "import matplotlib.pyplot as plt\n",
        "from urllib.request import urlretrieve\n",
        "os.environ[\"TFHUB_DOWNLOAD_PROGRESS\"] = \"True\""
      ]
    },
    {
      "cell_type": "code",
      "source": [
        "ModelName='Model.h5'\n",
        "TrainData='traindata.h5'\n",
        "TestData='testdata.h5'\n"
      ],
      "metadata": {
        "id": "j1RMarmX2Xj0"
      },
      "execution_count": null,
      "outputs": []
    },
    {
      "cell_type": "code",
      "source": [
        "def check_get(url,File_Name):\n",
        "    def download_callback(blocknum, blocksize, totalsize):\n",
        "        readsofar = blocknum * blocksize\n",
        "        if totalsize > 0:\n",
        "            percent = readsofar * 1e2 / totalsize\n",
        "            s = \"\\r%5.1f%% %*d MB / %d MB\" % (\n",
        "                percent, len(str(totalsize)), readsofar/1e6, totalsize/1e6)\n",
        "            sys.stderr.write(s)\n",
        "            if readsofar >= totalsize: # near the end\n",
        "                sys.stderr.write(\"\\n\")\n",
        "        else: # total size is unknown\n",
        "            sys.stderr.write(\"read %d\\n\" % (readsofar,))\n",
        "    if not os.path.isfile(File_Name):\n",
        "        ans=input('You dont have the file \"' +File_Name +'\". Do you want to download it? (Y/N) ')\n",
        "        if ans=='Y' or ans=='y' or ans=='yes' or ans=='Yes' or ans=='YES':\n",
        "            print('Beginning file download. This might take several minutes.')\n",
        "            urlretrieve(url,File_Name,download_callback)\n",
        "    else:\n",
        "        print('File \"' +File_Name +'\" is detected on your machine.'  )\n"
      ],
      "metadata": {
        "id": "enOEUNO22eeL"
      },
      "execution_count": null,
      "outputs": []
    },
    {
      "cell_type": "code",
      "source": [
        "check_get('https://zenodo.org/record/6659509/files/traindata.h5?download=1',TrainData)\n",
        "check_get('https://zenodo.org/record/6659509/files/testdata.h5?download=1',TestData)"
      ],
      "metadata": {
        "id": "ZuPsB5OW2wEh"
      },
      "execution_count": null,
      "outputs": []
    },
    {
      "cell_type": "code",
      "source": [
        "!wget \"https://raw.githubusercontent.com/sahibpreetkaur9008/placenta-esrgan/main/low-res.png\" -O original.png\n"
      ],
      "metadata": {
        "id": "V-ku7kllyyFy"
      },
      "execution_count": null,
      "outputs": []
    },
    {
      "cell_type": "code",
      "execution_count": null,
      "metadata": {
        "id": "DXot2kru0ukh"
      },
      "outputs": [],
      "source": [
        "# Declaring Constants\n",
        "IMAGE_PATH = \"original.png\"\n",
        "SAVED_MODEL_PATH = \"https://tfhub.dev/captain-pool/esrgan-tf2/1\""
      ]
    },
    {
      "cell_type": "markdown",
      "metadata": {
        "id": "KF_tHde-p3rn"
      },
      "source": [
        "**Defining Helper Functions**"
      ]
    },
    {
      "cell_type": "code",
      "execution_count": null,
      "metadata": {
        "id": "IslbQmTj0ukz"
      },
      "outputs": [],
      "source": [
        "\n",
        "def preprocess_image(image_path):\n",
        "  \"\"\" Loads image from path and preprocesses to make it model ready\n",
        "      Args:\n",
        "        image_path: Path to the image file\n",
        "  \"\"\"\n",
        "  hr_image = tf.image.decode_image(tf.io.read_file(image_path))\n",
        "  # If PNG, remove the alpha channel. The model only supports\n",
        "  # images with 3 color channels.\n",
        "  if hr_image.shape[-1] == 4:\n",
        "    hr_image = hr_image[...,:-1]\n",
        "  hr_size = (tf.convert_to_tensor(hr_image.shape[:-1]) // 4) * 4\n",
        "  hr_image = tf.image.crop_to_bounding_box(hr_image, 0, 0, hr_size[0], hr_size[1])\n",
        "  hr_image = tf.cast(hr_image, tf.float32)\n",
        "  return tf.expand_dims(hr_image, 0)\n",
        "\n",
        "def save_image(image, filename):\n",
        "  \"\"\"\n",
        "    Saves unscaled Tensor Images.\n",
        "    Args:\n",
        "      image: 3D image tensor. [height, width, channels]\n",
        "      filename: Name of the file to save.\n",
        "  \"\"\"\n",
        "  if not isinstance(image, Image.Image):\n",
        "    image = tf.clip_by_value(image, 0, 255)\n",
        "    image = Image.fromarray(tf.cast(image, tf.uint8).numpy())\n",
        "  image.save(\"%s.jpg\" % filename)\n",
        "  print(\"Saved as %s.jpg\" % filename)"
      ]
    },
    {
      "cell_type": "code",
      "execution_count": null,
      "metadata": {
        "id": "uh1E2rBpnWxV"
      },
      "outputs": [],
      "source": [
        "%matplotlib inline\n",
        "def plot_image(image, title=\"\"):\n",
        "  \"\"\"\n",
        "    Plots images from image tensors.\n",
        "    Args:\n",
        "      image: 3D image tensor. [height, width, channels].\n",
        "      title: Title to display in the plot.\n",
        "  \"\"\"\n",
        "  image = np.asarray(image)\n",
        "  image = tf.clip_by_value(image, 0, 255)\n",
        "  image = Image.fromarray(tf.cast(image, tf.uint8).numpy())\n",
        "  plt.imshow(image)\n",
        "  plt.axis(\"off\")\n",
        "  plt.title(title)"
      ]
    },
    {
      "cell_type": "markdown",
      "metadata": {
        "id": "ycrCTvmlqBMD"
      },
      "source": [
        "#### Performing Super Resolution of images loaded from path"
      ]
    },
    {
      "cell_type": "code",
      "execution_count": null,
      "metadata": {
        "id": "L7XpMk8Y0uk7"
      },
      "outputs": [],
      "source": [
        "hr_image = preprocess_image(IMAGE_PATH)"
      ]
    },
    {
      "cell_type": "code",
      "execution_count": null,
      "metadata": {
        "id": "hWgCbUa_0ulG"
      },
      "outputs": [],
      "source": [
        "# Plotting Original Resolution image\n",
        "plot_image(tf.squeeze(hr_image), title=\"Original Image\")\n",
        "save_image(tf.squeeze(hr_image), filename=\"Original Image\")"
      ]
    },
    {
      "cell_type": "code",
      "execution_count": null,
      "metadata": {
        "id": "ouwEyKLA0ulO"
      },
      "outputs": [],
      "source": [
        "model = hub.load(SAVED_MODEL_PATH)"
      ]
    },
    {
      "cell_type": "code",
      "execution_count": null,
      "metadata": {
        "id": "dz79ncnT0ulX"
      },
      "outputs": [],
      "source": [
        "start = time.time()\n",
        "fake_image = model(hr_image)\n",
        "fake_image = tf.squeeze(fake_image)\n",
        "print(\"Time Taken: %f\" % (time.time() - start))"
      ]
    },
    {
      "cell_type": "code",
      "execution_count": null,
      "metadata": {
        "id": "ABjkkJHC2jNL"
      },
      "outputs": [],
      "source": [
        "# Plotting Super Resolution Image\n",
        "plot_image(tf.squeeze(fake_image), title=\"Super Resolution\")\n",
        "save_image(tf.squeeze(fake_image), filename=\"Super Resolution\")"
      ]
    },
    {
      "cell_type": "markdown",
      "metadata": {
        "id": "tuKu18UYptkx"
      },
      "source": [
        "### Evaluating Performance of the Model"
      ]
    },
    {
      "cell_type": "code",
      "source": [
        "!wget \"https://raw.githubusercontent.com/sahibpreetkaur9008/placenta-esrgan/main/low-res-4.png\" -O test.png\n",
        "IMAGE_PATH = \"test.png\""
      ],
      "metadata": {
        "id": "I5CPWCw0SMHk"
      },
      "execution_count": null,
      "outputs": []
    },
    {
      "cell_type": "code",
      "execution_count": null,
      "metadata": {
        "id": "F6tMNtqy0ukq"
      },
      "outputs": [],
      "source": [
        "# Defining helper functions\n",
        "def downscale_image(image):\n",
        "  \"\"\"\n",
        "      Scales down images using bicubic downsampling.\n",
        "      Args:\n",
        "          image: 3D or 4D tensor of preprocessed image\n",
        "  \"\"\"\n",
        "  image_size = []\n",
        "  if len(image.shape) == 3:\n",
        "    image_size = [image.shape[1], image.shape[0]]\n",
        "  else:\n",
        "    raise ValueError(\"Dimension mismatch. Can work only on single image.\")\n",
        "\n",
        "  image = tf.squeeze(\n",
        "      tf.cast(\n",
        "          tf.clip_by_value(image, 0, 255), tf.uint8))\n",
        "\n",
        "  lr_image = np.asarray(\n",
        "    Image.fromarray(image.numpy())\n",
        "    .resize([image_size[0] // 4, image_size[1] // 4],\n",
        "              Image.BICUBIC))\n",
        "\n",
        "  lr_image = tf.expand_dims(lr_image, 0)\n",
        "  lr_image = tf.cast(lr_image, tf.float32)\n",
        "  return lr_image"
      ]
    },
    {
      "cell_type": "code",
      "execution_count": null,
      "metadata": {
        "id": "r2ANR1XDy77I"
      },
      "outputs": [],
      "source": [
        "hr_image = preprocess_image(IMAGE_PATH)"
      ]
    },
    {
      "cell_type": "code",
      "execution_count": null,
      "metadata": {
        "id": "r_dautO6qbTV"
      },
      "outputs": [],
      "source": [
        "lr_image = downscale_image(tf.squeeze(hr_image))"
      ]
    },
    {
      "cell_type": "code",
      "execution_count": null,
      "metadata": {
        "id": "jRw1x6xY0ulj",
        "scrolled": true
      },
      "outputs": [],
      "source": [
        "# Plotting Low Resolution Image\n",
        "plot_image(tf.squeeze(lr_image), title=\"Low Resolution\")"
      ]
    },
    {
      "cell_type": "code",
      "execution_count": null,
      "metadata": {
        "id": "g--yyHg7qXCw"
      },
      "outputs": [],
      "source": [
        "model = hub.load(SAVED_MODEL_PATH)"
      ]
    },
    {
      "cell_type": "code",
      "execution_count": null,
      "metadata": {
        "id": "ZX-deZlhqaYz"
      },
      "outputs": [],
      "source": [
        "start = time.time()\n",
        "fake_image = model(lr_image)\n",
        "fake_image = tf.squeeze(fake_image)\n",
        "print(\"Time Taken: %f\" % (time.time() - start))"
      ]
    },
    {
      "cell_type": "code",
      "execution_count": null,
      "metadata": {
        "id": "AmSga6MSq1PB"
      },
      "outputs": [],
      "source": [
        "plot_image(tf.squeeze(fake_image), title=\"Super Resolution\")\n",
        "# Calculating PSNR wrt Original Image\n",
        "psnr = tf.image.psnr(\n",
        "    tf.clip_by_value(fake_image, 0, 255),\n",
        "    tf.clip_by_value(hr_image, 0, 255), max_val=255)\n",
        "print(\"PSNR Achieved: %f\" % psnr)"
      ]
    },
    {
      "cell_type": "markdown",
      "metadata": {
        "id": "5YTBKCXPq9UZ"
      },
      "source": [
        "**Comparing Outputs size by side.**"
      ]
    },
    {
      "cell_type": "code",
      "execution_count": null,
      "metadata": {
        "id": "ubdupldDypCy"
      },
      "outputs": [],
      "source": [
        "plt.rcParams['figure.figsize'] = [15, 10]\n",
        "fig, axes = plt.subplots(1, 3)\n",
        "fig.tight_layout()\n",
        "plt.subplot(131)\n",
        "plot_image(tf.squeeze(hr_image), title=\"Original\")\n",
        "plt.subplot(132)\n",
        "fig.tight_layout()\n",
        "plot_image(tf.squeeze(lr_image), \"x4 Bicubic\")\n",
        "plt.subplot(133)\n",
        "fig.tight_layout()\n",
        "plot_image(tf.squeeze(fake_image), \"Super Resolution\")\n",
        "plt.savefig(\"ESRGAN_DIV2K.jpg\", bbox_inches=\"tight\")\n",
        "print(\"PSNR: %f\" % psnr)"
      ]
    }
  ],
  "metadata": {
    "colab": {
      "machine_shape": "hm",
      "private_outputs": true,
      "provenance": [],
      "toc_visible": true,
      "gpuType": "T4"
    },
    "kernelspec": {
      "display_name": "Python 3",
      "name": "python3"
    },
    "language_info": {
      "codemirror_mode": {
        "name": "ipython",
        "version": 3
      },
      "file_extension": ".py",
      "mimetype": "text/x-python",
      "name": "python",
      "nbconvert_exporter": "python",
      "pygments_lexer": "ipython3",
      "version": "3.5.2"
    },
    "accelerator": "GPU"
  },
  "nbformat": 4,
  "nbformat_minor": 0
}